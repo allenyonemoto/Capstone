{
 "cells": [
  {
   "cell_type": "markdown",
   "id": "95c8f778-6b84-4da9-8272-88e8f7e86c61",
   "metadata": {},
   "source": [
    "<font size = \"8\">__Space X Falcon 9 First Stage Landing Prediction__</Font>"
   ]
  },
  {
   "cell_type": "markdown",
   "id": "6a2b6e78-431a-4d48-887b-5b1a440e7302",
   "metadata": {},
   "source": [
    "<font size = \"5\">__Data Wrangling__</Font>"
   ]
  },
  {
   "cell_type": "markdown",
   "id": "748e328e-0de0-4c34-93fc-3f0a43ca2b0c",
   "metadata": {},
   "source": [
    "We will perform EDA to find some patterns in the data and determine what would be the label for training supervised models."
   ]
  },
  {
   "cell_type": "markdown",
   "id": "d9000e75-ef4c-4d9f-8c47-56bc6cf992d4",
   "metadata": {},
   "source": [
    "In the data set, there are several different cases where the booster did not land successfully. Sometimes a landing was attempted but failed due to an accident, such as, True Ocean means the mission outcome was successfully landed, and False Ocean means the mission outcome was unsuccessfully landed to a region of the ocean. True RTLS means the mission outcome was successfully landed to a ground pad, and False RTLS means the mission outcome was unsuccessfully landed. True ASDS means the mission outcome was successfully landed on a drone ship, while False ASDS means the mission outcome was unsuccessfully landed."
   ]
  },
  {
   "cell_type": "markdown",
   "id": "cc5297a1-5d1e-4142-8f33-89e26fc6fa59",
   "metadata": {},
   "source": [
    "For this lab, we will mostly convert the outcomes into trainings with 1 meaning the booster successfully landed and 0 meaning unsuccessful."
   ]
  },
  {
   "cell_type": "markdown",
   "id": "797721a5-9938-4297-b926-71bb5b2aa722",
   "metadata": {},
   "source": [
    "<Font Size = \"3\">__Objectives__</Font>"
   ]
  },
  {
   "cell_type": "markdown",
   "id": "953859bc-a910-4935-9aca-a55049390e2a",
   "metadata": {},
   "source": [
    "Perform Exploratory Data Analysis and determine Training Labels."
   ]
  },
  {
   "cell_type": "markdown",
   "id": "4aa222fe-6bdd-4219-a4bc-536ed39570f7",
   "metadata": {},
   "source": [
    "<Font Size = \"3\">__Preparing Data Analysis__</Font>"
   ]
  },
  {
   "cell_type": "code",
   "execution_count": 2,
   "id": "b370972b-1f51-4ecc-9e88-2852ab637398",
   "metadata": {},
   "outputs": [],
   "source": [
    "import pandas as pd\n",
    "import numpy as np"
   ]
  },
  {
   "cell_type": "code",
   "execution_count": 4,
   "id": "b5684ea8-f683-4ff8-911c-74dfb1ed9ee0",
   "metadata": {},
   "outputs": [
    {
     "data": {
      "text/html": [
       "<div>\n",
       "<style scoped>\n",
       "    .dataframe tbody tr th:only-of-type {\n",
       "        vertical-align: middle;\n",
       "    }\n",
       "\n",
       "    .dataframe tbody tr th {\n",
       "        vertical-align: top;\n",
       "    }\n",
       "\n",
       "    .dataframe thead th {\n",
       "        text-align: right;\n",
       "    }\n",
       "</style>\n",
       "<table border=\"1\" class=\"dataframe\">\n",
       "  <thead>\n",
       "    <tr style=\"text-align: right;\">\n",
       "      <th></th>\n",
       "      <th>FlightNumber</th>\n",
       "      <th>Date</th>\n",
       "      <th>BoosterVersion</th>\n",
       "      <th>PayloadMass</th>\n",
       "      <th>Orbit</th>\n",
       "      <th>LaunchSite</th>\n",
       "      <th>Outcome</th>\n",
       "      <th>Flights</th>\n",
       "      <th>GridFins</th>\n",
       "      <th>Reused</th>\n",
       "      <th>Legs</th>\n",
       "      <th>LandingPad</th>\n",
       "      <th>Block</th>\n",
       "      <th>ReusedCount</th>\n",
       "      <th>Serial</th>\n",
       "      <th>Longitude</th>\n",
       "      <th>Latitude</th>\n",
       "    </tr>\n",
       "  </thead>\n",
       "  <tbody>\n",
       "    <tr>\n",
       "      <th>0</th>\n",
       "      <td>1</td>\n",
       "      <td>2010-06-04</td>\n",
       "      <td>Falcon 9</td>\n",
       "      <td>6104.959412</td>\n",
       "      <td>LEO</td>\n",
       "      <td>CCAFS SLC 40</td>\n",
       "      <td>None None</td>\n",
       "      <td>1</td>\n",
       "      <td>False</td>\n",
       "      <td>False</td>\n",
       "      <td>False</td>\n",
       "      <td>NaN</td>\n",
       "      <td>1.0</td>\n",
       "      <td>0</td>\n",
       "      <td>B0003</td>\n",
       "      <td>-80.577366</td>\n",
       "      <td>28.561857</td>\n",
       "    </tr>\n",
       "    <tr>\n",
       "      <th>1</th>\n",
       "      <td>2</td>\n",
       "      <td>2012-05-22</td>\n",
       "      <td>Falcon 9</td>\n",
       "      <td>525.000000</td>\n",
       "      <td>LEO</td>\n",
       "      <td>CCAFS SLC 40</td>\n",
       "      <td>None None</td>\n",
       "      <td>1</td>\n",
       "      <td>False</td>\n",
       "      <td>False</td>\n",
       "      <td>False</td>\n",
       "      <td>NaN</td>\n",
       "      <td>1.0</td>\n",
       "      <td>0</td>\n",
       "      <td>B0005</td>\n",
       "      <td>-80.577366</td>\n",
       "      <td>28.561857</td>\n",
       "    </tr>\n",
       "    <tr>\n",
       "      <th>2</th>\n",
       "      <td>3</td>\n",
       "      <td>2013-03-01</td>\n",
       "      <td>Falcon 9</td>\n",
       "      <td>677.000000</td>\n",
       "      <td>ISS</td>\n",
       "      <td>CCAFS SLC 40</td>\n",
       "      <td>None None</td>\n",
       "      <td>1</td>\n",
       "      <td>False</td>\n",
       "      <td>False</td>\n",
       "      <td>False</td>\n",
       "      <td>NaN</td>\n",
       "      <td>1.0</td>\n",
       "      <td>0</td>\n",
       "      <td>B0007</td>\n",
       "      <td>-80.577366</td>\n",
       "      <td>28.561857</td>\n",
       "    </tr>\n",
       "    <tr>\n",
       "      <th>3</th>\n",
       "      <td>4</td>\n",
       "      <td>2013-09-29</td>\n",
       "      <td>Falcon 9</td>\n",
       "      <td>500.000000</td>\n",
       "      <td>PO</td>\n",
       "      <td>VAFB SLC 4E</td>\n",
       "      <td>False Ocean</td>\n",
       "      <td>1</td>\n",
       "      <td>False</td>\n",
       "      <td>False</td>\n",
       "      <td>False</td>\n",
       "      <td>NaN</td>\n",
       "      <td>1.0</td>\n",
       "      <td>0</td>\n",
       "      <td>B1003</td>\n",
       "      <td>-120.610829</td>\n",
       "      <td>34.632093</td>\n",
       "    </tr>\n",
       "    <tr>\n",
       "      <th>4</th>\n",
       "      <td>5</td>\n",
       "      <td>2013-12-03</td>\n",
       "      <td>Falcon 9</td>\n",
       "      <td>3170.000000</td>\n",
       "      <td>GTO</td>\n",
       "      <td>CCAFS SLC 40</td>\n",
       "      <td>None None</td>\n",
       "      <td>1</td>\n",
       "      <td>False</td>\n",
       "      <td>False</td>\n",
       "      <td>False</td>\n",
       "      <td>NaN</td>\n",
       "      <td>1.0</td>\n",
       "      <td>0</td>\n",
       "      <td>B1004</td>\n",
       "      <td>-80.577366</td>\n",
       "      <td>28.561857</td>\n",
       "    </tr>\n",
       "    <tr>\n",
       "      <th>5</th>\n",
       "      <td>6</td>\n",
       "      <td>2014-01-06</td>\n",
       "      <td>Falcon 9</td>\n",
       "      <td>3325.000000</td>\n",
       "      <td>GTO</td>\n",
       "      <td>CCAFS SLC 40</td>\n",
       "      <td>None None</td>\n",
       "      <td>1</td>\n",
       "      <td>False</td>\n",
       "      <td>False</td>\n",
       "      <td>False</td>\n",
       "      <td>NaN</td>\n",
       "      <td>1.0</td>\n",
       "      <td>0</td>\n",
       "      <td>B1005</td>\n",
       "      <td>-80.577366</td>\n",
       "      <td>28.561857</td>\n",
       "    </tr>\n",
       "    <tr>\n",
       "      <th>6</th>\n",
       "      <td>7</td>\n",
       "      <td>2014-04-18</td>\n",
       "      <td>Falcon 9</td>\n",
       "      <td>2296.000000</td>\n",
       "      <td>ISS</td>\n",
       "      <td>CCAFS SLC 40</td>\n",
       "      <td>True Ocean</td>\n",
       "      <td>1</td>\n",
       "      <td>False</td>\n",
       "      <td>False</td>\n",
       "      <td>True</td>\n",
       "      <td>NaN</td>\n",
       "      <td>1.0</td>\n",
       "      <td>0</td>\n",
       "      <td>B1006</td>\n",
       "      <td>-80.577366</td>\n",
       "      <td>28.561857</td>\n",
       "    </tr>\n",
       "    <tr>\n",
       "      <th>7</th>\n",
       "      <td>8</td>\n",
       "      <td>2014-07-14</td>\n",
       "      <td>Falcon 9</td>\n",
       "      <td>1316.000000</td>\n",
       "      <td>LEO</td>\n",
       "      <td>CCAFS SLC 40</td>\n",
       "      <td>True Ocean</td>\n",
       "      <td>1</td>\n",
       "      <td>False</td>\n",
       "      <td>False</td>\n",
       "      <td>True</td>\n",
       "      <td>NaN</td>\n",
       "      <td>1.0</td>\n",
       "      <td>0</td>\n",
       "      <td>B1007</td>\n",
       "      <td>-80.577366</td>\n",
       "      <td>28.561857</td>\n",
       "    </tr>\n",
       "    <tr>\n",
       "      <th>8</th>\n",
       "      <td>9</td>\n",
       "      <td>2014-08-05</td>\n",
       "      <td>Falcon 9</td>\n",
       "      <td>4535.000000</td>\n",
       "      <td>GTO</td>\n",
       "      <td>CCAFS SLC 40</td>\n",
       "      <td>None None</td>\n",
       "      <td>1</td>\n",
       "      <td>False</td>\n",
       "      <td>False</td>\n",
       "      <td>False</td>\n",
       "      <td>NaN</td>\n",
       "      <td>1.0</td>\n",
       "      <td>0</td>\n",
       "      <td>B1008</td>\n",
       "      <td>-80.577366</td>\n",
       "      <td>28.561857</td>\n",
       "    </tr>\n",
       "    <tr>\n",
       "      <th>9</th>\n",
       "      <td>10</td>\n",
       "      <td>2014-09-07</td>\n",
       "      <td>Falcon 9</td>\n",
       "      <td>4428.000000</td>\n",
       "      <td>GTO</td>\n",
       "      <td>CCAFS SLC 40</td>\n",
       "      <td>None None</td>\n",
       "      <td>1</td>\n",
       "      <td>False</td>\n",
       "      <td>False</td>\n",
       "      <td>False</td>\n",
       "      <td>NaN</td>\n",
       "      <td>1.0</td>\n",
       "      <td>0</td>\n",
       "      <td>B1011</td>\n",
       "      <td>-80.577366</td>\n",
       "      <td>28.561857</td>\n",
       "    </tr>\n",
       "  </tbody>\n",
       "</table>\n",
       "</div>"
      ],
      "text/plain": [
       "   FlightNumber        Date BoosterVersion  PayloadMass Orbit    LaunchSite  \\\n",
       "0             1  2010-06-04       Falcon 9  6104.959412   LEO  CCAFS SLC 40   \n",
       "1             2  2012-05-22       Falcon 9   525.000000   LEO  CCAFS SLC 40   \n",
       "2             3  2013-03-01       Falcon 9   677.000000   ISS  CCAFS SLC 40   \n",
       "3             4  2013-09-29       Falcon 9   500.000000    PO   VAFB SLC 4E   \n",
       "4             5  2013-12-03       Falcon 9  3170.000000   GTO  CCAFS SLC 40   \n",
       "5             6  2014-01-06       Falcon 9  3325.000000   GTO  CCAFS SLC 40   \n",
       "6             7  2014-04-18       Falcon 9  2296.000000   ISS  CCAFS SLC 40   \n",
       "7             8  2014-07-14       Falcon 9  1316.000000   LEO  CCAFS SLC 40   \n",
       "8             9  2014-08-05       Falcon 9  4535.000000   GTO  CCAFS SLC 40   \n",
       "9            10  2014-09-07       Falcon 9  4428.000000   GTO  CCAFS SLC 40   \n",
       "\n",
       "       Outcome  Flights  GridFins  Reused   Legs LandingPad  Block  \\\n",
       "0    None None        1     False   False  False        NaN    1.0   \n",
       "1    None None        1     False   False  False        NaN    1.0   \n",
       "2    None None        1     False   False  False        NaN    1.0   \n",
       "3  False Ocean        1     False   False  False        NaN    1.0   \n",
       "4    None None        1     False   False  False        NaN    1.0   \n",
       "5    None None        1     False   False  False        NaN    1.0   \n",
       "6   True Ocean        1     False   False   True        NaN    1.0   \n",
       "7   True Ocean        1     False   False   True        NaN    1.0   \n",
       "8    None None        1     False   False  False        NaN    1.0   \n",
       "9    None None        1     False   False  False        NaN    1.0   \n",
       "\n",
       "   ReusedCount Serial   Longitude   Latitude  \n",
       "0            0  B0003  -80.577366  28.561857  \n",
       "1            0  B0005  -80.577366  28.561857  \n",
       "2            0  B0007  -80.577366  28.561857  \n",
       "3            0  B1003 -120.610829  34.632093  \n",
       "4            0  B1004  -80.577366  28.561857  \n",
       "5            0  B1005  -80.577366  28.561857  \n",
       "6            0  B1006  -80.577366  28.561857  \n",
       "7            0  B1007  -80.577366  28.561857  \n",
       "8            0  B1008  -80.577366  28.561857  \n",
       "9            0  B1011  -80.577366  28.561857  "
      ]
     },
     "execution_count": 4,
     "metadata": {},
     "output_type": "execute_result"
    }
   ],
   "source": [
    "df = pd.read_csv(\"https://cf-courses-data.s3.us.cloud-object-storage.appdomain.cloud/IBM-DS0321EN-SkillsNetwork/datasets/dataset_part_1.csv\")\n",
    "df.head(10)"
   ]
  },
  {
   "cell_type": "markdown",
   "id": "00c5aa26-10c9-4d53-9007-d300e1cf07d0",
   "metadata": {},
   "source": [
    "Identify and calculate the percentage of the missing values in each attribute."
   ]
  },
  {
   "cell_type": "code",
   "execution_count": 5,
   "id": "7669443a-7d42-4f13-af8a-8334672c615f",
   "metadata": {},
   "outputs": [
    {
     "data": {
      "text/plain": [
       "FlightNumber       0.000000\n",
       "Date               0.000000\n",
       "BoosterVersion     0.000000\n",
       "PayloadMass        0.000000\n",
       "Orbit              0.000000\n",
       "LaunchSite         0.000000\n",
       "Outcome            0.000000\n",
       "Flights            0.000000\n",
       "GridFins           0.000000\n",
       "Reused             0.000000\n",
       "Legs               0.000000\n",
       "LandingPad        28.888889\n",
       "Block              0.000000\n",
       "ReusedCount        0.000000\n",
       "Serial             0.000000\n",
       "Longitude          0.000000\n",
       "Latitude           0.000000\n",
       "dtype: float64"
      ]
     },
     "execution_count": 5,
     "metadata": {},
     "output_type": "execute_result"
    }
   ],
   "source": [
    "df.isnull().sum()/len(df)*100"
   ]
  },
  {
   "cell_type": "markdown",
   "id": "e9646eb3-82cb-4094-aada-fc54b426ec59",
   "metadata": {},
   "source": [
    "Identify which columns are numerical and categorical."
   ]
  },
  {
   "cell_type": "code",
   "execution_count": 7,
   "id": "e8650d69-534b-40ac-82a5-0f36d09e45f5",
   "metadata": {},
   "outputs": [
    {
     "data": {
      "text/plain": [
       "FlightNumber        int64\n",
       "Date               object\n",
       "BoosterVersion     object\n",
       "PayloadMass       float64\n",
       "Orbit              object\n",
       "LaunchSite         object\n",
       "Outcome            object\n",
       "Flights             int64\n",
       "GridFins             bool\n",
       "Reused               bool\n",
       "Legs                 bool\n",
       "LandingPad         object\n",
       "Block             float64\n",
       "ReusedCount         int64\n",
       "Serial             object\n",
       "Longitude         float64\n",
       "Latitude          float64\n",
       "dtype: object"
      ]
     },
     "execution_count": 7,
     "metadata": {},
     "output_type": "execute_result"
    }
   ],
   "source": [
    "df.dtypes"
   ]
  },
  {
   "cell_type": "markdown",
   "id": "81dc012e-ab4e-4114-8ef4-586158d7a816",
   "metadata": {},
   "source": [
    "<Font Size = \"4\">__Step 1: Calculate the number of launches on each site__</Font>"
   ]
  },
  {
   "cell_type": "markdown",
   "id": "66b5975d-ae2a-4dc2-bdda-43fc4504658b",
   "metadata": {},
   "source": [
    "The data contains several Space X launch facilities: Cape Canaveral Space Launch Complex 40 VAFB SLC 4E, Vadenberg Air Force Base Space Launch Complex 4E (SLC-4E), Kennedy Space Center Launch Complex 39A KSC LC 39A. The location of each launch is placed in the column LaunchSite."
   ]
  },
  {
   "cell_type": "markdown",
   "id": "f1ca5ee1-fa97-434c-8627-f1d3316ae6c5",
   "metadata": {},
   "source": [
    "Next, let's use the method value_counts() on the column to find the number of launches on each site. "
   ]
  },
  {
   "cell_type": "code",
   "execution_count": 8,
   "id": "1ed5a66a-e705-466d-9922-3deaa657a92e",
   "metadata": {},
   "outputs": [
    {
     "data": {
      "text/plain": [
       "LaunchSite\n",
       "CCAFS SLC 40    55\n",
       "KSC LC 39A      22\n",
       "VAFB SLC 4E     13\n",
       "Name: count, dtype: int64"
      ]
     },
     "execution_count": 8,
     "metadata": {},
     "output_type": "execute_result"
    }
   ],
   "source": [
    "df['LaunchSite'].value_counts()"
   ]
  },
  {
   "cell_type": "markdown",
   "id": "c7aee121-e084-4165-83f9-a5f1ced2419e",
   "metadata": {},
   "source": [
    "Each launch aims to a dedicated orbit. Here are some common types:"
   ]
  },
  {
   "cell_type": "markdown",
   "id": "81b09298-bb2a-47c8-bcbe-6dfc80b84425",
   "metadata": {},
   "source": [
    "Low Earth Orbit (LEO): an Earth-centered orbit with an altitude of 2000 km or less or with at least 11.25 periods per day."
   ]
  },
  {
   "cell_type": "markdown",
   "id": "3f0623b3-60b3-41b9-9199-c73deb92f6c1",
   "metadata": {},
   "source": [
    "Very Low Earth Orbits: orbits with a mean altitude below 450 k. Operating these orbits can provide a number of benefits of Earth observation spacecraft operates closer to the observation."
   ]
  },
  {
   "cell_type": "markdown",
   "id": "8471cbb5-205f-4de0-81b6-a7f070c9e926",
   "metadata": {},
   "source": [
    "GTO: a high Earth orbit that allows satellites to match Earth's rotation. Located at 22,236 miles above Earth's equator, this position is a valuable spot for monitoring weather, communications, and surveillance. Because the satellite orbits at the same speed that the Earth is turnging, the satellite seems to stay in place over a single longitude, although it may drift north to south."
   ]
  },
  {
   "cell_type": "markdown",
   "id": "0b265a48-a11b-4f71-bf50-c318dd727743",
   "metadata": {},
   "source": [
    "SSO: a sun synchronous orbit also called a heliosynchronous orbit that is a nearly polar orbit around a planet, in which the satellite passes over a given point of the planet's surface at the same local mean solar time."
   ]
  },
  {
   "cell_type": "markdown",
   "id": "e8eef28a-df9f-4368-9d45-a4f35382bcb4",
   "metadata": {},
   "source": [
    "ES-L1: At the Lagrange points, the gravitational forces of the two large bodies cancel out in such a way that a small object placed in orbit there is in equilibrium relative to the center of mass of the large bodies. L1 is one point between the sun and the earth."
   ]
  },
  {
   "cell_type": "markdown",
   "id": "8bbaafd5-dc4d-423b-855d-144b44a2fadb",
   "metadata": {},
   "source": [
    "HEO: an elliptical orbit with high eccentricity, usually referring to one around Earth."
   ]
  },
  {
   "cell_type": "markdown",
   "id": "01a7a3db-24e6-4987-9b6b-0b20be772e75",
   "metadata": {},
   "source": [
    "ISS: a modular space station in low Earth orbit that is a multinational collaborative project between five participating space agencies: NASA (United States), Roscosmos (Russia), JAXA (Japan), ESA (Europe), and CSA (Canada)."
   ]
  },
  {
   "cell_type": "markdown",
   "id": "a72c909d-56fe-4a76-87fd-87b40fe84c9d",
   "metadata": {},
   "source": [
    "MEO: Geocentric orbits ranging in altitude from 2000 km to just below geosynchronous orbit at 35,786 kilometers. Also known as an intermediate circular orbit. THese are \"most commonly at 20,200 kilometers or 20,650 kilometers with an orbital period of 12 hours."
   ]
  },
  {
   "cell_type": "markdown",
   "id": "e974166d-49f7-49a7-ad77-54e461a56169",
   "metadata": {},
   "source": [
    "HEO: Geocentric orbits above the altitude of geosynchronous orbit (35,786 km ir 22,236 mi)"
   ]
  },
  {
   "cell_type": "markdown",
   "id": "c23a456c-b0ec-483a-a3b7-6ef067cfb0ad",
   "metadata": {},
   "source": [
    "GEO: a circular geosynchronous orbit 35,786 kiloeters above Earth's equator and following the direction of Earth's rotation."
   ]
  },
  {
   "cell_type": "markdown",
   "id": "8c57916b-c31d-4ce0-8883-041513b5b9e8",
   "metadata": {},
   "source": [
    "PO: one type of satellites in which a satellite passes above or nearly above both poles of the body being orbited."
   ]
  },
  {
   "cell_type": "markdown",
   "id": "4280f1bf-ff2c-4a83-915a-143636b8466a",
   "metadata": {},
   "source": [
    "<Font Size = \"4\">__Step 2: Calculate the number and occurrence of each orbit.__</Font>"
   ]
  },
  {
   "cell_type": "markdown",
   "id": "1475d18a-f2d0-407a-978a-b97d06e0e93e",
   "metadata": {},
   "source": [
    "Use the method .value_counts() to determine the number and occurrence of each orbit in the Orbit column."
   ]
  },
  {
   "cell_type": "code",
   "execution_count": 10,
   "id": "6768ab07-1ed7-43f2-a01c-c2cef3feccc8",
   "metadata": {},
   "outputs": [
    {
     "data": {
      "text/plain": [
       "Orbit\n",
       "GTO      27\n",
       "ISS      21\n",
       "VLEO     14\n",
       "PO        9\n",
       "LEO       7\n",
       "SSO       5\n",
       "MEO       3\n",
       "ES-L1     1\n",
       "HEO       1\n",
       "SO        1\n",
       "GEO       1\n",
       "Name: count, dtype: int64"
      ]
     },
     "execution_count": 10,
     "metadata": {},
     "output_type": "execute_result"
    }
   ],
   "source": [
    "df['Orbit'].value_counts()"
   ]
  },
  {
   "cell_type": "markdown",
   "id": "68dff340-7b00-4b2d-8550-d74f880f9bcc",
   "metadata": {},
   "source": [
    "<Font Size = \"4\">__Step 3: Calculate the number and occurrence of mission outcome per orbit type.__</Font>"
   ]
  },
  {
   "cell_type": "markdown",
   "id": "c6435d64-51bb-460b-b527-17bd28231d36",
   "metadata": {},
   "source": [
    "Use the method .value_counts() on the Outcome column to determine the number of landing_outcomes. Assign it to the variable landing_outcomes."
   ]
  },
  {
   "cell_type": "code",
   "execution_count": 13,
   "id": "60937e53-2fd3-44a2-8871-a7570975143c",
   "metadata": {},
   "outputs": [
    {
     "data": {
      "text/plain": [
       "Outcome\n",
       "True ASDS      41\n",
       "None None      19\n",
       "True RTLS      14\n",
       "False ASDS      6\n",
       "True Ocean      5\n",
       "False Ocean     2\n",
       "None ASDS       2\n",
       "False RTLS      1\n",
       "Name: count, dtype: int64"
      ]
     },
     "execution_count": 13,
     "metadata": {},
     "output_type": "execute_result"
    }
   ],
   "source": [
    "landing_outcomes = df['Outcome'].value_counts()\n",
    "landing_outcomes"
   ]
  },
  {
   "cell_type": "code",
   "execution_count": 14,
   "id": "f7cf8ddf-3bbe-4c0e-a32d-41e84152c137",
   "metadata": {},
   "outputs": [
    {
     "name": "stdout",
     "output_type": "stream",
     "text": [
      "0 True ASDS\n",
      "1 None None\n",
      "2 True RTLS\n",
      "3 False ASDS\n",
      "4 True Ocean\n",
      "5 False Ocean\n",
      "6 None ASDS\n",
      "7 False RTLS\n"
     ]
    }
   ],
   "source": [
    "for i, outcome in enumerate(landing_outcomes.keys()):\n",
    "    print(i, outcome)"
   ]
  },
  {
   "cell_type": "markdown",
   "id": "5057bd7a-460d-4281-910a-24b3b19ea0ab",
   "metadata": {},
   "source": [
    "Next, we set the outcomes where the second stage did not land successfully."
   ]
  },
  {
   "cell_type": "code",
   "execution_count": 15,
   "id": "932f04dc-ea97-4ba7-9ca6-a048db177da3",
   "metadata": {},
   "outputs": [
    {
     "data": {
      "text/plain": [
       "{'False ASDS', 'False Ocean', 'False RTLS', 'None ASDS', 'None None'}"
      ]
     },
     "execution_count": 15,
     "metadata": {},
     "output_type": "execute_result"
    }
   ],
   "source": [
    "bad_outcomes = set(landing_outcomes.keys()[[1,3,5,6,7]])\n",
    "bad_outcomes"
   ]
  },
  {
   "cell_type": "markdown",
   "id": "9c9969f9-4f31-4753-aa9b-c12c92e69a49",
   "metadata": {},
   "source": [
    "<Font Size = \"4\">__Step 4: Create a landing outcome label from the Outcome column.__</Font>"
   ]
  },
  {
   "cell_type": "markdown",
   "id": "2a5a2189-91b0-4088-a551-5481860e7b12",
   "metadata": {},
   "source": [
    "Using the Outcome column, create a list where the element is zero if the corresponding row in Outcome is in the set bad_outcome; otherwise, it's one. Assign it to the variable landing_class."
   ]
  },
  {
   "cell_type": "code",
   "execution_count": 16,
   "id": "fd5824dd-6e1f-4076-9364-c44a9837f554",
   "metadata": {},
   "outputs": [],
   "source": [
    "landing_class = []\n",
    "for x in df['Outcome']:\n",
    "    if x in set(bad_outcomes):\n",
    "        landing_class.append(0)\n",
    "    else:\n",
    "        landing_class.append(1)"
   ]
  },
  {
   "cell_type": "markdown",
   "id": "e386e54d-a945-48b0-bd14-ef163dc71778",
   "metadata": {},
   "source": [
    "This variable will represent the classification variable that represents the outcome of each launch. If the value is 0, the first stage did not land successfully. Otherwise, 1 means the first stage landed successfully."
   ]
  },
  {
   "cell_type": "code",
   "execution_count": 17,
   "id": "14b91298-7289-46ed-a763-8a251f7ddf72",
   "metadata": {},
   "outputs": [
    {
     "data": {
      "text/html": [
       "<div>\n",
       "<style scoped>\n",
       "    .dataframe tbody tr th:only-of-type {\n",
       "        vertical-align: middle;\n",
       "    }\n",
       "\n",
       "    .dataframe tbody tr th {\n",
       "        vertical-align: top;\n",
       "    }\n",
       "\n",
       "    .dataframe thead th {\n",
       "        text-align: right;\n",
       "    }\n",
       "</style>\n",
       "<table border=\"1\" class=\"dataframe\">\n",
       "  <thead>\n",
       "    <tr style=\"text-align: right;\">\n",
       "      <th></th>\n",
       "      <th>Class</th>\n",
       "    </tr>\n",
       "  </thead>\n",
       "  <tbody>\n",
       "    <tr>\n",
       "      <th>0</th>\n",
       "      <td>0</td>\n",
       "    </tr>\n",
       "    <tr>\n",
       "      <th>1</th>\n",
       "      <td>0</td>\n",
       "    </tr>\n",
       "    <tr>\n",
       "      <th>2</th>\n",
       "      <td>0</td>\n",
       "    </tr>\n",
       "    <tr>\n",
       "      <th>3</th>\n",
       "      <td>0</td>\n",
       "    </tr>\n",
       "    <tr>\n",
       "      <th>4</th>\n",
       "      <td>0</td>\n",
       "    </tr>\n",
       "    <tr>\n",
       "      <th>5</th>\n",
       "      <td>0</td>\n",
       "    </tr>\n",
       "    <tr>\n",
       "      <th>6</th>\n",
       "      <td>1</td>\n",
       "    </tr>\n",
       "    <tr>\n",
       "      <th>7</th>\n",
       "      <td>1</td>\n",
       "    </tr>\n",
       "  </tbody>\n",
       "</table>\n",
       "</div>"
      ],
      "text/plain": [
       "   Class\n",
       "0      0\n",
       "1      0\n",
       "2      0\n",
       "3      0\n",
       "4      0\n",
       "5      0\n",
       "6      1\n",
       "7      1"
      ]
     },
     "execution_count": 17,
     "metadata": {},
     "output_type": "execute_result"
    }
   ],
   "source": [
    "df['Class'] = landing_class\n",
    "df[['Class']].head(8)"
   ]
  },
  {
   "cell_type": "code",
   "execution_count": 18,
   "id": "7072a9af-557b-4a95-a283-1ee664095428",
   "metadata": {},
   "outputs": [
    {
     "data": {
      "text/html": [
       "<div>\n",
       "<style scoped>\n",
       "    .dataframe tbody tr th:only-of-type {\n",
       "        vertical-align: middle;\n",
       "    }\n",
       "\n",
       "    .dataframe tbody tr th {\n",
       "        vertical-align: top;\n",
       "    }\n",
       "\n",
       "    .dataframe thead th {\n",
       "        text-align: right;\n",
       "    }\n",
       "</style>\n",
       "<table border=\"1\" class=\"dataframe\">\n",
       "  <thead>\n",
       "    <tr style=\"text-align: right;\">\n",
       "      <th></th>\n",
       "      <th>FlightNumber</th>\n",
       "      <th>Date</th>\n",
       "      <th>BoosterVersion</th>\n",
       "      <th>PayloadMass</th>\n",
       "      <th>Orbit</th>\n",
       "      <th>LaunchSite</th>\n",
       "      <th>Outcome</th>\n",
       "      <th>Flights</th>\n",
       "      <th>GridFins</th>\n",
       "      <th>Reused</th>\n",
       "      <th>Legs</th>\n",
       "      <th>LandingPad</th>\n",
       "      <th>Block</th>\n",
       "      <th>ReusedCount</th>\n",
       "      <th>Serial</th>\n",
       "      <th>Longitude</th>\n",
       "      <th>Latitude</th>\n",
       "      <th>Class</th>\n",
       "    </tr>\n",
       "  </thead>\n",
       "  <tbody>\n",
       "    <tr>\n",
       "      <th>0</th>\n",
       "      <td>1</td>\n",
       "      <td>2010-06-04</td>\n",
       "      <td>Falcon 9</td>\n",
       "      <td>6104.959412</td>\n",
       "      <td>LEO</td>\n",
       "      <td>CCAFS SLC 40</td>\n",
       "      <td>None None</td>\n",
       "      <td>1</td>\n",
       "      <td>False</td>\n",
       "      <td>False</td>\n",
       "      <td>False</td>\n",
       "      <td>NaN</td>\n",
       "      <td>1.0</td>\n",
       "      <td>0</td>\n",
       "      <td>B0003</td>\n",
       "      <td>-80.577366</td>\n",
       "      <td>28.561857</td>\n",
       "      <td>0</td>\n",
       "    </tr>\n",
       "    <tr>\n",
       "      <th>1</th>\n",
       "      <td>2</td>\n",
       "      <td>2012-05-22</td>\n",
       "      <td>Falcon 9</td>\n",
       "      <td>525.000000</td>\n",
       "      <td>LEO</td>\n",
       "      <td>CCAFS SLC 40</td>\n",
       "      <td>None None</td>\n",
       "      <td>1</td>\n",
       "      <td>False</td>\n",
       "      <td>False</td>\n",
       "      <td>False</td>\n",
       "      <td>NaN</td>\n",
       "      <td>1.0</td>\n",
       "      <td>0</td>\n",
       "      <td>B0005</td>\n",
       "      <td>-80.577366</td>\n",
       "      <td>28.561857</td>\n",
       "      <td>0</td>\n",
       "    </tr>\n",
       "    <tr>\n",
       "      <th>2</th>\n",
       "      <td>3</td>\n",
       "      <td>2013-03-01</td>\n",
       "      <td>Falcon 9</td>\n",
       "      <td>677.000000</td>\n",
       "      <td>ISS</td>\n",
       "      <td>CCAFS SLC 40</td>\n",
       "      <td>None None</td>\n",
       "      <td>1</td>\n",
       "      <td>False</td>\n",
       "      <td>False</td>\n",
       "      <td>False</td>\n",
       "      <td>NaN</td>\n",
       "      <td>1.0</td>\n",
       "      <td>0</td>\n",
       "      <td>B0007</td>\n",
       "      <td>-80.577366</td>\n",
       "      <td>28.561857</td>\n",
       "      <td>0</td>\n",
       "    </tr>\n",
       "    <tr>\n",
       "      <th>3</th>\n",
       "      <td>4</td>\n",
       "      <td>2013-09-29</td>\n",
       "      <td>Falcon 9</td>\n",
       "      <td>500.000000</td>\n",
       "      <td>PO</td>\n",
       "      <td>VAFB SLC 4E</td>\n",
       "      <td>False Ocean</td>\n",
       "      <td>1</td>\n",
       "      <td>False</td>\n",
       "      <td>False</td>\n",
       "      <td>False</td>\n",
       "      <td>NaN</td>\n",
       "      <td>1.0</td>\n",
       "      <td>0</td>\n",
       "      <td>B1003</td>\n",
       "      <td>-120.610829</td>\n",
       "      <td>34.632093</td>\n",
       "      <td>0</td>\n",
       "    </tr>\n",
       "    <tr>\n",
       "      <th>4</th>\n",
       "      <td>5</td>\n",
       "      <td>2013-12-03</td>\n",
       "      <td>Falcon 9</td>\n",
       "      <td>3170.000000</td>\n",
       "      <td>GTO</td>\n",
       "      <td>CCAFS SLC 40</td>\n",
       "      <td>None None</td>\n",
       "      <td>1</td>\n",
       "      <td>False</td>\n",
       "      <td>False</td>\n",
       "      <td>False</td>\n",
       "      <td>NaN</td>\n",
       "      <td>1.0</td>\n",
       "      <td>0</td>\n",
       "      <td>B1004</td>\n",
       "      <td>-80.577366</td>\n",
       "      <td>28.561857</td>\n",
       "      <td>0</td>\n",
       "    </tr>\n",
       "  </tbody>\n",
       "</table>\n",
       "</div>"
      ],
      "text/plain": [
       "   FlightNumber        Date BoosterVersion  PayloadMass Orbit    LaunchSite  \\\n",
       "0             1  2010-06-04       Falcon 9  6104.959412   LEO  CCAFS SLC 40   \n",
       "1             2  2012-05-22       Falcon 9   525.000000   LEO  CCAFS SLC 40   \n",
       "2             3  2013-03-01       Falcon 9   677.000000   ISS  CCAFS SLC 40   \n",
       "3             4  2013-09-29       Falcon 9   500.000000    PO   VAFB SLC 4E   \n",
       "4             5  2013-12-03       Falcon 9  3170.000000   GTO  CCAFS SLC 40   \n",
       "\n",
       "       Outcome  Flights  GridFins  Reused   Legs LandingPad  Block  \\\n",
       "0    None None        1     False   False  False        NaN    1.0   \n",
       "1    None None        1     False   False  False        NaN    1.0   \n",
       "2    None None        1     False   False  False        NaN    1.0   \n",
       "3  False Ocean        1     False   False  False        NaN    1.0   \n",
       "4    None None        1     False   False  False        NaN    1.0   \n",
       "\n",
       "   ReusedCount Serial   Longitude   Latitude  Class  \n",
       "0            0  B0003  -80.577366  28.561857      0  \n",
       "1            0  B0005  -80.577366  28.561857      0  \n",
       "2            0  B0007  -80.577366  28.561857      0  \n",
       "3            0  B1003 -120.610829  34.632093      0  \n",
       "4            0  B1004  -80.577366  28.561857      0  "
      ]
     },
     "execution_count": 18,
     "metadata": {},
     "output_type": "execute_result"
    }
   ],
   "source": [
    "df.head()"
   ]
  },
  {
   "cell_type": "markdown",
   "id": "f919d5ee-70e3-4c4c-a38f-13745d39e43e",
   "metadata": {},
   "source": [
    "We can use this code to find the success rate."
   ]
  },
  {
   "cell_type": "code",
   "execution_count": 19,
   "id": "4fe57313-a9e5-40c4-90b8-aedcbfd62c92",
   "metadata": {},
   "outputs": [
    {
     "data": {
      "text/plain": [
       "0.6666666666666666"
      ]
     },
     "execution_count": 19,
     "metadata": {},
     "output_type": "execute_result"
    }
   ],
   "source": [
    "df['Class'].mean()"
   ]
  },
  {
   "cell_type": "markdown",
   "id": "e7787540-7f18-406e-9917-c15f07bd4171",
   "metadata": {},
   "source": [
    "We can now export it to a CSV for the next section. In the next lab, we will provide data in a p"
   ]
  }
 ],
 "metadata": {
  "kernelspec": {
   "display_name": "Python 3 (ipykernel)",
   "language": "python",
   "name": "python3"
  },
  "language_info": {
   "codemirror_mode": {
    "name": "ipython",
    "version": 3
   },
   "file_extension": ".py",
   "mimetype": "text/x-python",
   "name": "python",
   "nbconvert_exporter": "python",
   "pygments_lexer": "ipython3",
   "version": "3.9.13"
  }
 },
 "nbformat": 4,
 "nbformat_minor": 5
}
